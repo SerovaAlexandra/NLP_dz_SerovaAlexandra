{
 "cells": [
  {
   "cell_type": "code",
   "execution_count": 2,
   "metadata": {},
   "outputs": [],
   "source": [
    "from pymorphy2 import MorphAnalyzer\n",
    "import nltk"
   ]
  },
  {
   "cell_type": "code",
   "execution_count": 3,
   "metadata": {},
   "outputs": [],
   "source": [
    "from nltk.tokenize import word_tokenize\n",
    "from string import punctuation"
   ]
  },
  {
   "cell_type": "markdown",
   "metadata": {},
   "source": [
    "### Ручная разметка корпуса\n",
    "Был взят текст отзыва на фильм (несколько видоизменен).\n",
    "#### Почему текст подходит для оценки?\n",
    "* есть аббревиатуры\n",
    "* иностранные имена персонажей и актеров, написанные в русской орфографии, у них сложно определить часть речи\n",
    "* встречаются слова, имеющие омонимы других частей речи (\"довольно\": прил. ср.р./нар./част.)\n",
    "* есть числительные, частично написанные цифрами (\"80-ые\", \"90-ые\")\n",
    "* сленговые слова, в разных вариантах написания (\"экшн\", \"экшен\")\n",
    "* заимствованные слова, относительно новые/незнакомые (характерны для вселенной фильма) для русского языка (\"сиквел\", \"симбиот\")\n",
    "#### Комментарий к тегсету ручной разметки\n",
    "За основу брался тегсет pymorphy, но был несколько упрощен, например, разные виды прилагательных (краткие и полные) сводились к одному. Это было сделано для удобства тестирования других теггеров, где подобные случаи решаются по-разному (все прил. размечаются как adj вне зависимости от их краткости)"
   ]
  },
  {
   "cell_type": "code",
   "execution_count": 6,
   "metadata": {},
   "outputs": [],
   "source": [
    "df = pd.read_csv(\"my_sample_data.csv\", sep = ';')\n"
   ]
  },
  {
   "cell_type": "code",
   "execution_count": 119,
   "metadata": {},
   "outputs": [
    {
     "name": "stdout",
     "output_type": "stream",
     "text": [
      "[('Люди', 'NOUN'), ('росшие', 'PRTF'), ('в', 'PREP'), ('80-ые', 'NUMR'), ('и', 'CONJ'), ('90-ые', 'NUMR'), ('знакомы', 'ADJ'), ('с', 'PREP'), ('именами', 'NOUN'), ('из', 'PREP'), ('заголовка', 'NOUN'), ('не', 'PRCL'), ('понаслышке', 'ADV'), ('Веном', 'NOUN'), ('и', 'CONJ'), ('Карнадж', 'NOUN'), ('были', 'VERB'), ('одними', 'NUMR'), ('из', 'PREP'), ('самых', 'PRON'), ('ярких', 'ADJ'), ('и', 'CONJ'), ('запоминающихся', 'PRTF'), ('злодеев', 'NOUN'), ('из', 'PREP'), ('мультсериала', 'NOUN'), ('про', 'PREP'), ('Человека-Паука', 'NOUN'), ('В', 'PREP'), ('комиксах', 'NOUN'), ('же', 'PRCL'), ('это', 'PRON'), ('в целом', 'PREP'), ('довольно', 'ADV'), ('важный', 'ADJ'), ('персонаж', 'NOUN'), ('который', 'CONJ'), ('за', 'PREP'), ('многие', 'ADJ'), ('десятки', 'NOUN'), ('лет', 'NOUN'), ('своего', 'PRON'), ('существования', 'NOUN'), ('пережил', 'VERB'), ('множество', 'NOUN'), ('различных', 'ADJ'), ('сюжетов', 'NOUN'), ('Неудивительно', 'ADV'), ('что', 'CONJ'), ('именно', 'PRCL'), ('Веномом', 'NOUN'), ('в', 'PREP'), ('первую', 'NUMR'), ('очередь', 'NOUN'), ('воспользовались', 'VERB'), ('когда', 'CONJ'), ('Человек-Паук', 'NOUN'), ('ушел', 'VERB'), ('на', 'PREP'), ('длительные', 'ADJ'), ('творческие', 'ADJ'), ('каникулы', 'NOUN'), ('Первый', 'NUMR'), ('фильм', 'NOUN'), ('в', 'PREP'), ('линейке', 'NOUN'), ('сюжетов', 'NOUN'), ('про', 'PREP'), ('злодеев', 'NOUN'), ('Паучка', 'NOUN'), ('вышел', 'VERB'), ('неоднозначным', 'ADJ'), ('с', 'PREP'), ('точки', 'NOUN'), ('зрения', 'NOUN'), ('приема', 'NOUN'), ('у', 'PREP'), ('зрителей', 'NOUN'), ('и', 'CONJ'), ('ошеломительным', 'ADJ'), ('с', 'PREP'), ('точки', 'NOUN'), ('зрения', 'NOUN'), ('кассового', 'ADJ'), ('успеха', 'NOUN'), ('А', 'CONJ'), ('тут', 'ADV'), ('уж', 'PRCL'), ('как', 'CONJ'), ('вы', 'PRON'), ('знаете', 'VERB'), ('сиквела', 'NOUN'), ('не', 'PRCL'), ('миновать', 'VERB'), ('Главное', 'ADJ'), ('просмотр', 'NOUN'), ('фильм', 'NOUN'), ('в', 'PREP'), ('состоянии', 'NOUN'), ('принести', 'VERB'), ('удовольстви', 'NOUN'), ('Он', 'PRON'), ('быстрый', 'ADJ'), ('веселый', 'ADJ'), ('в', 'PREP'), ('меру', 'NOUN'), ('динамичный', 'ADJ'), ('В', 'PREP'), ('«Веноме»', 'NOUN'), ('очень', 'ADV'), ('много', 'ADV'), ('шуток', 'NOUN'), ('юмора', 'NOUN'), ('как', 'CONJ'), ('ситуативного', 'ADJ'), ('так', 'ADV'), ('и', 'CONJ'), ('диалогового', 'ADJ'), ('Эдди', 'NOUN'), ('Брок', 'NOUN'), ('и', 'CONJ'), ('симбиот', 'NOUN'), ('не', 'PRCL'), ('прекращают', 'VERB'), ('подтрунивать', 'VERB'), ('друг', 'NOUN'), ('над', 'PREP'), ('другом', 'NOUN'), ('Если', 'CONJ'), ('воспринимать', 'VERB'), ('фильм', 'NOUN'), ('как', 'CONJ'), ('легкий', 'ADJ'), ('комедийный', 'ADJ'), ('бади-боевик', 'NOUN'), ('из', 'PREP'), ('80-х', 'NUMR'), ('то', 'PRON'), ('он', 'PRON'), ('отлично', 'ADV'), ('выполняет', 'VERB'), ('свою', 'PRON'), ('функцию', 'NOUN'), ('Юмор', 'NOUN'), ('практически', 'ADV'), ('не', 'PRCL'), ('останавливается', 'VERB'), ('события', 'NOUN'), ('сменяют', 'VERB'), ('друг', 'NOUN'), ('друга', 'NOUN'), ('быстро', 'ADV'), ('Сам', 'PRON'), ('Карнадж', 'NOUN'), ('в', 'PREP'), ('виде', 'NOUN'), ('симбиота', 'NOUN'), ('впечатляет', 'VERB'), ('Он', 'PRON'), ('красив', 'ADJ'), ('он', 'PRON'), ('круто', 'ADV'), ('анимирован', 'PRTF'), ('за', 'PREP'), ('экшеном', 'NOUN'), ('с', 'PREP'), ('его', 'PRON'), ('участием', 'NOUN'), ('наблюдать', 'VERB'), ('увлекательно', 'ADV'), ('Но', 'CONJ'), ('достойной', 'ADJ'), ('истории', 'NOUN'), ('красный', 'ADJ'), ('симбиот', 'NOUN'), ('все', 'PRON'), ('же', 'PRCL'), ('не', 'PRCL'), ('получает', 'VERB'), ('Также', 'PRCL'), ('открытым', 'ADJ'), ('остается', 'VERB'), ('вопрос', 'NOUN'), ('хронометража', 'NOUN'), ('почему', 'CONJ'), ('всего', 'PRCL'), ('90', 'NUMR'), ('минут', 'NOUN'), ('Это', 'PRON'), ('мало', 'ADV'), ('для', 'PREP'), ('комикс', 'NOUN'), ('блокбастера', 'NOUN'), ('Сжатый', 'ADJ'), ('хрон', 'NOUN'), ('во', 'PREP'), ('многом', 'ADJ'), ('виноват', 'ADJ'), ('в', 'PREP'), ('том', 'PRON'), ('что', 'CONJ'), ('раскрытием', 'NOUN'), ('второстепенных', 'ADJ'), ('героев', 'NOUN'), ('фильм', 'NOUN'), ('будто', 'CONJ'), ('бы', 'PRCL'), ('и', 'CONJ'), ('не', 'PRCL'), ('заморачивается', 'VERB'), ('В', 'PREP'), ('остальном', 'NOUN'), ('это', 'PRON'), ('нормальное', 'ADJ'), ('кинцо', 'NOUN'), ('Яркий', 'ADJ'), ('главный', 'ADJ'), ('экранный', 'ADJ'), ('дует', 'NOUN'), ('неплохой', 'ADJ'), ('экшен', 'NOUN'), ('много', 'ADV'), ('юмора', 'NOUN'), ('Да', 'PRCL'), ('сценарий', 'NOUN'), ('страдает', 'VERB'), ('от', 'PREP'), ('ленивых', 'ADJ'), ('мотиваций', 'NOUN'), ('резвых', 'ADJ'), ('телепортаций', 'NOUN'), ('героев', 'NOUN'), ('на', 'PREP'), ('большие', 'ADJ'), ('расстояния', 'NOUN'), ('и', 'CONJ'), ('прочих', 'PRON'), ('условностей', 'NOUN'), ('Но', 'CONJ'), ('все', 'PRON'), ('это', 'PRON'), ('имеет', 'VERB'), ('мало', 'ADV'), ('значения', 'NOUN'), ('в', 'PREP'), ('контексте', 'NOUN'), ('этого', 'PRON'), ('фильма', 'NOUN'), ('я', 'PRON'), ('вернусь', 'VERB'), ('к', 'PREP'), ('тому', 'PRON'), ('с', 'PREP'), ('чего', 'PRON'), ('я', 'PRON'), ('начал', 'VERB'), ('этот', 'PRON'), ('текст', 'NOUN'), ('Я', 'PRON'), ('получил', 'VERB'), ('удовольствие', 'NOUN'), ('от', 'PREP'), ('просмотра', 'NOUN'), ('Да', 'PRCL'), ('это', 'PRON'), ('не', 'PRCL'), ('то', 'PRON'), ('что', 'CONJ'), ('я', 'PRON'), ('хотел', 'VERB'), ('бы', 'PRCL'), ('получить', 'VERB'), ('от', 'PREP'), ('фильма', 'NOUN'), ('с', 'PREP'), ('таким', 'PRON'), ('названием', 'NOUN'), ('но', 'CONJ'), ('черт', 'NOUN'), ('на', 'PREP'), ('шутке', 'NOUN'), ('про', 'PREP'), ('кетчуп', 'NOUN'), ('меня', 'PRON'), ('порвало', 'VERB'), ('Не', 'PRCL'), ('пропустите', 'VERB'), ('По', 'PREP'), ('НТВ', 'NOUN'), ('таких', 'PRON'), ('фильмов', 'NOUN'), ('не', 'PRCL'), ('покажут', 'VERB')]\n"
     ]
    }
   ],
   "source": [
    "data_list = []\n",
    "with open (\"my_sample_data.csv\", encoding = 'utf-8') as f1:\n",
    "    text1 = f1.readlines()\n",
    "    for line in text1:\n",
    "        line = line.split(';')\n",
    "        wordm = line[1]\n",
    "        if '\\n' in line[2]:\n",
    "            second = line[2][0:-1]\n",
    "        else:\n",
    "            second = line [2]\n",
    "        if line[1].endswith(' '):\n",
    "            wordm = line[1][0:-1]\n",
    "        line = (wordm, second)\n",
    "        data_list.append (line)\n",
    "print(data_list)"
   ]
  },
  {
   "cell_type": "markdown",
   "metadata": {},
   "source": [
    "### 1. pymorphy"
   ]
  },
  {
   "cell_type": "code",
   "execution_count": 41,
   "metadata": {},
   "outputs": [],
   "source": [
    "morph = MorphAnalyzer()\n"
   ]
  },
  {
   "cell_type": "code",
   "execution_count": 122,
   "metadata": {},
   "outputs": [],
   "source": [
    "with open ('Текст_корпус.txt', encoding = 'utf-8') as f:\n",
    "    text = f.read()\n",
    "    tokenizer = word_tokenize(text)\n",
    "    for elem in tokenizer:\n",
    "        if elem in punctuation or elem.isalpha == False:\n",
    "            tokenizer.remove(elem)"
   ]
  },
  {
   "cell_type": "code",
   "execution_count": 123,
   "metadata": {},
   "outputs": [
    {
     "data": {
      "text/plain": [
       "317"
      ]
     },
     "execution_count": 123,
     "metadata": {},
     "output_type": "execute_result"
    }
   ],
   "source": [
    "my_pymorph_list = []\n",
    "for word in tokenizer:\n",
    "    morph_data = str(morph.parse(word)[0].tag.POS)\n",
    "    if morph_data != '':\n",
    "        if morph_data == 'NPRO':\n",
    "            morph_data = 'PRON'\n",
    "        if morph_data == 'INFN' or morph_data == 'PRTF' or morph_data == 'PRTS': #адаптируем обозначения частей речи под разметку текста нашего корпуса\n",
    "            morph_data = 'VERB'\n",
    "        if morph_data.startswith ('ADJ'):\n",
    "            morph_data = 'ADJ'\n",
    "        if morph_data == 'ADVB':\n",
    "            morph_data = 'ADV'\n",
    "        pos_tuple = (word, morph_data)\n",
    "        my_pymorph_list.append(pos_tuple)\n",
    "len(my_pymorph_list)"
   ]
  },
  {
   "cell_type": "code",
   "execution_count": 124,
   "metadata": {},
   "outputs": [
    {
     "data": {
      "text/plain": [
       "259"
      ]
     },
     "execution_count": 124,
     "metadata": {},
     "output_type": "execute_result"
    }
   ],
   "source": [
    "same_counter = 0 #подсчет количества совпадений с ручной разметкой\n",
    "for some in my_pymorph_list:\n",
    "    if some in data_list:\n",
    "        same_counter += 1\n",
    "    else:\n",
    "        pass\n",
    "same_counter"
   ]
  },
  {
   "cell_type": "markdown",
   "metadata": {},
   "source": [
    "#### Подсчет accuracy для pymorphy:"
   ]
  },
  {
   "cell_type": "code",
   "execution_count": 121,
   "metadata": {},
   "outputs": [
    {
     "data": {
      "text/plain": [
       "0.590443686006826"
      ]
     },
     "execution_count": 121,
     "metadata": {},
     "output_type": "execute_result"
    }
   ],
   "source": [
    "acc = same_counter/len(data_list)\n",
    "acc"
   ]
  },
  {
   "cell_type": "markdown",
   "metadata": {},
   "source": [
    "### 2. Natasha"
   ]
  },
  {
   "cell_type": "code",
   "execution_count": 78,
   "metadata": {},
   "outputs": [],
   "source": [
    "from natasha import (\n",
    "    Segmenter,\n",
    "    MorphVocab,\n",
    "    \n",
    "    NewsEmbedding,\n",
    "    NewsMorphTagger,\n",
    "    NewsSyntaxParser,\n",
    "    NewsNERTagger,\n",
    "    \n",
    "    PER,\n",
    "    NamesExtractor,\n",
    "\n",
    "    Doc\n",
    ")\n",
    "\n",
    "\n",
    "segmenter = Segmenter()\n",
    "morph_vocab = MorphVocab()\n",
    "\n",
    "emb = NewsEmbedding()\n",
    "morph_tagger = NewsMorphTagger(emb)\n",
    "syntax_parser = NewsSyntaxParser(emb)\n",
    "ner_tagger = NewsNERTagger(emb)\n",
    "\n",
    "names_extractor = NamesExtractor(morph_vocab)\n"
   ]
  },
  {
   "cell_type": "code",
   "execution_count": 67,
   "metadata": {},
   "outputs": [],
   "source": [
    "with open ('Текст_корпус.txt', encoding = 'utf-8') as f1:\n",
    "    text = f1.read()\n",
    "doc = Doc (text)"
   ]
  },
  {
   "cell_type": "code",
   "execution_count": 70,
   "metadata": {},
   "outputs": [
    {
     "name": "stdout",
     "output_type": "stream",
     "text": [
      "[DocToken(stop=4, text='Люди'), DocToken(start=4, stop=5, text=','), DocToken(start=6, stop=12, text='росшие'), DocToken(start=13, stop=14, text='в'), DocToken(start=15, stop=20, text='80-ые')]\n"
     ]
    }
   ],
   "source": [
    "doc.segment(segmenter)\n",
    "print(doc.tokens[:5])\n"
   ]
  },
  {
   "cell_type": "code",
   "execution_count": 77,
   "metadata": {},
   "outputs": [
    {
     "name": "stdout",
     "output_type": "stream",
     "text": [
      "[DocToken(stop=4, text='Люди', pos='NOUN', feats=<Anim,Nom,Masc,Plur>), DocToken(start=4, stop=5, text=',', pos='PUNCT'), DocToken(start=6, stop=12, text='росшие', pos='VERB', feats=<Perf,Nom,Plur,Past,Part,Act>), DocToken(start=13, stop=14, text='в', pos='ADP'), DocToken(start=15, stop=20, text='80-ые', pos='ADJ')]\n",
      "Люди NOUN\n",
      ", PUNCT\n",
      "росшие VERB\n",
      "в ADP\n",
      "80-ые ADJ\n"
     ]
    }
   ],
   "source": [
    "doc.tag_morph(morph_tagger)\n",
    "print(doc.tokens[:5])\n",
    "for elem in doc.tokens[:5]:\n",
    "    print(elem.text, elem.pos)"
   ]
  },
  {
   "cell_type": "code",
   "execution_count": 80,
   "metadata": {},
   "outputs": [
    {
     "data": {
      "text/plain": [
       "315"
      ]
     },
     "execution_count": 80,
     "metadata": {},
     "output_type": "execute_result"
    }
   ],
   "source": [
    "nat_list = [] #создаем список кортежей, в каждом из которых первый элеметн - слово, второй - его часть речи\n",
    "for elem in doc.tokens:\n",
    "    if elem.pos != 'PUNCT':\n",
    "        if elem.pos == 'NUM':\n",
    "            pos_data = 'NUMR'\n",
    "        if elem.pos == 'ADP':\n",
    "            pos_data = 'PREP'\n",
    "        if elem.pos == 'CCONJ':\n",
    "            pos_data = 'CONJ'\n",
    "        if elem.pos == 'PROPN':\n",
    "            pos_data = 'NOUN'\n",
    "        else:\n",
    "            pos_data = elem.pos\n",
    "        elem_data = (elem.text, pos_data)\n",
    "        nat_list.append (elem_data)\n",
    "len (nat_list)  "
   ]
  },
  {
   "cell_type": "code",
   "execution_count": 82,
   "metadata": {},
   "outputs": [
    {
     "data": {
      "text/plain": [
       "173"
      ]
     },
     "execution_count": 82,
     "metadata": {},
     "output_type": "execute_result"
    }
   ],
   "source": [
    "same_nat_counter = 0 #подсчет количества совпадений с результатами ручной разметки\n",
    "for some in nat_list:\n",
    "    if some in data_list:\n",
    "        same_nat_counter += 1\n",
    "    else:\n",
    "        pass\n",
    "same_nat_counter"
   ]
  },
  {
   "cell_type": "markdown",
   "metadata": {},
   "source": [
    "#### Подчет accuracy для natasha"
   ]
  },
  {
   "cell_type": "code",
   "execution_count": 120,
   "metadata": {},
   "outputs": [
    {
     "data": {
      "text/plain": [
       "0.590443686006826"
      ]
     },
     "execution_count": 120,
     "metadata": {},
     "output_type": "execute_result"
    }
   ],
   "source": [
    "acc = same_nat_counter/len(data_list)\n",
    "acc"
   ]
  },
  {
   "cell_type": "markdown",
   "metadata": {},
   "source": [
    "### Функция chunker\n",
    "Используем pymorphy, так как он показал лучший результат. Функция будет искать 3 наиболее частных биграммы с частицей \"не\" и возвращать части речи, следующие после этой частицы"
   ]
  },
  {
   "cell_type": "code",
   "execution_count": 115,
   "metadata": {},
   "outputs": [],
   "source": [
    "from collections import defaultdict, Counter"
   ]
  },
  {
   "cell_type": "code",
   "execution_count": 116,
   "metadata": {},
   "outputs": [
    {
     "data": {
      "text/plain": [
       "[('VERB', 6), ('ADV', 1), ('CONJ', 1)]"
      ]
     },
     "execution_count": 116,
     "metadata": {},
     "output_type": "execute_result"
    }
   ],
   "source": [
    "def chunker (my_pymorph_list):\n",
    "    pos_dict = defaultdict(int)\n",
    "    for i in range (len(my_pymorph_list)):\n",
    "        if my_pymorph_list[i][0]=='не':\n",
    "            pos_for_func = my_pymorph_list[i+1][1]\n",
    "            pos_dict[pos_for_func] += 1\n",
    "    k = Counter (pos_dict)\n",
    "    lead = k.most_common(3) #возвращает 3 наиболее частотных части речи, употребляемых после \"не\"\n",
    "    return (lead)\n",
    "chunker (my_pymorph_list)"
   ]
  },
  {
   "cell_type": "markdown",
   "metadata": {},
   "source": [
    "### Варианты улучшения предыдущей домашки\n",
    "Могу предложить следующие шаблоны, все три могут встретиться как в положительных, так и в отрицательных отзывах, также все три в принципе частотны в языке, поэтому с большой вероятностью встретятся в любой выборке отзывов: \n",
    "1. прил+сущ. (так как часто характеристики в отзывах даются в виде \"характеристика+понятие\", например, интересный сюжет, неинтересный персонаж)\n",
    "2. не+глагол (для отзывов характерно употребление оценочных глаголов с не: не впечатлил, не оставляет равнодушным)\n",
    "3. глагол+наречие (часто встречается что-то вроде \"прекрасно описывает\")\n"
   ]
  },
  {
   "cell_type": "code",
   "execution_count": null,
   "metadata": {},
   "outputs": [],
   "source": []
  }
 ],
 "metadata": {
  "kernelspec": {
   "display_name": "Python 3",
   "language": "python",
   "name": "python3"
  },
  "language_info": {
   "codemirror_mode": {
    "name": "ipython",
    "version": 3
   },
   "file_extension": ".py",
   "mimetype": "text/x-python",
   "name": "python",
   "nbconvert_exporter": "python",
   "pygments_lexer": "ipython3",
   "version": "3.8.5"
  }
 },
 "nbformat": 4,
 "nbformat_minor": 4
}
